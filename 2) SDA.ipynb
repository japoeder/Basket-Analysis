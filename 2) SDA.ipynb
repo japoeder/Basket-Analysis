{
 "cells": [
  {
   "cell_type": "markdown",
   "metadata": {},
   "source": [
    "# **Specific Data Analysis**:<a class=\"anchor\" id=\"0\"></a>\n",
    "\n",
    "\n",
    "1. [**products**](#1)\n",
    "2. [**orders**](#2)\n",
    "3. [**order_products__prior**](#3)\n",
    "4. [**departments**](#4)"
   ]
  }
 ],
 "metadata": {
  "kernelspec": {
   "display_name": "Python 3",
   "language": "python",
   "name": "python3"
  },
  "language_info": {
   "codemirror_mode": {
    "name": "ipython",
    "version": 3
   },
   "file_extension": ".py",
   "mimetype": "text/x-python",
   "name": "python",
   "nbconvert_exporter": "python",
   "pygments_lexer": "ipython3",
   "version": "3.10.14"
  }
 },
 "nbformat": 4,
 "nbformat_minor": 2
}
