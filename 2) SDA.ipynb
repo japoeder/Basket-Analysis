{
 "cells": [
  {
   "cell_type": "markdown",
   "metadata": {},
   "source": [
    "# **Specific Data Analysis**:<a class=\"anchor\" id=\"0\"></a>\n",
    "\n",
    "\n",
    "1. [**products**](#1)\n",
    "2. [**orders**](#2)\n",
    "3. [**order_products__prior**](#3)\n",
    "4. [**departments**](#4)"
   ]
  },
  {
   "cell_type": "code",
   "execution_count": 3,
   "metadata": {},
   "outputs": [],
   "source": [
    "import os\n",
    "\n",
    "import numpy as np\n",
    "import pandas as pd\n",
    "\n",
    "from _util.custom_plotting import *\n",
    "from _util.custom_mem_opt import custom_mem_opt\n",
    "\n",
    "import matplotlib.pyplot as plt\n",
    "import seaborn as sns\n",
    "sns.set_style('darkgrid')\n",
    "color = sns.color_palette()\n",
    "\n",
    "import pprint\n",
    "pp = pprint.PrettyPrinter(width=25, compact=True)\n",
    "\n",
    "root = './_data/'"
   ]
  },
  {
   "cell_type": "markdown",
   "metadata": {},
   "source": [
    "The dataset contains relational set of files describing customers' orders over time. For each user, 4 to 100 orders are provided with the sequence of products purchased in each order. The data of the order's week and hour of the day as well as a relative measure of time between orders is provided.\n",
    "\n",
    "**Files in the Dataset:** "
   ]
  },
  {
   "cell_type": "code",
   "execution_count": 4,
   "metadata": {},
   "outputs": [
    {
     "name": "stdout",
     "output_type": "stream",
     "text": [
      "['products.csv',\n",
      " 'orders.csv',\n",
      " 'order_products__train.csv',\n",
      " 'departments.csv',\n",
      " 'aisles.csv',\n",
      " 'order_products__prior.csv',\n",
      " 'sample_submission.csv']\n"
     ]
    }
   ],
   "source": [
    "pp.pprint(os.listdir('_data/'))"
   ]
  },
  {
   "cell_type": "code",
   "execution_count": 5,
   "metadata": {},
   "outputs": [],
   "source": [
    "aisles = custom_mem_opt(pd.read_csv(root + 'aisles.csv'), verbose=False)\n",
    "departments = custom_mem_opt(pd.read_csv(root + 'departments.csv'), verbose=False)\n",
    "orders = custom_mem_opt(pd.read_csv(root + 'orders.csv'), verbose=False)\n",
    "order_products_prior = custom_mem_opt(pd.read_csv(root + 'order_products__prior.csv'), verbose=False)\n",
    "order_products_train = custom_mem_opt(pd.read_csv(root + 'order_products__train.csv'), verbose=False)\n",
    "products = custom_mem_opt(pd.read_csv(root + 'products.csv'), verbose=False)"
   ]
  },
  {
   "cell_type": "code",
   "execution_count": null,
   "metadata": {},
   "outputs": [],
   "source": []
  }
 ],
 "metadata": {
  "kernelspec": {
   "display_name": "Python 3",
   "language": "python",
   "name": "python3"
  },
  "language_info": {
   "codemirror_mode": {
    "name": "ipython",
    "version": 3
   },
   "file_extension": ".py",
   "mimetype": "text/x-python",
   "name": "python",
   "nbconvert_exporter": "python",
   "pygments_lexer": "ipython3",
   "version": "3.10.14"
  }
 },
 "nbformat": 4,
 "nbformat_minor": 2
}
