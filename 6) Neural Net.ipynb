{
 "cells": [
  {
   "cell_type": "markdown",
   "metadata": {},
   "source": [
    "## Neural Net"
   ]
  },
  {
   "cell_type": "code",
   "execution_count": 2,
   "metadata": {},
   "outputs": [],
   "source": [
    "import warnings\n",
    "import time\n",
    "from tqdm import tqdm\n",
    "from numba.core.errors import NumbaDeprecationWarning, NumbaPendingDeprecationWarning\n",
    "\n",
    "from _util.custom_plotting import corr_heatmap, histogram_boxplot, horizontal_bar, heatmap_boxplot, simple_bar\n",
    "from _util.make_confusion_matrix import make_cm\n",
    "from _util.model_comparisons import *\n",
    "from _util.custom_mem_opt import custom_mem_opt\n",
    "\n",
    "from collections import Counter\n",
    "from sklearn.datasets import make_classification\n",
    "from imblearn.over_sampling import SMOTE\n",
    "\n",
    "import numpy as np\n",
    "import pandas as pd\n",
    "import matplotlib.pyplot as plt\n",
    "import seaborn as sns\n",
    "from pprint import PrettyPrinter\n",
    "\n",
    "import gc\n",
    "\n",
    "from sklearn.model_selection import train_test_split, GridSearchCV, cross_val_score\n",
    "from sklearn.metrics import confusion_matrix, accuracy_score, classification_report\n",
    "from sklearn.metrics import roc_auc_score, roc_curve, precision_score, recall_score, f1_score\n",
    "from sklearn.preprocessing import MinMaxScaler\n",
    "\n",
    "import torch\n",
    "import torch.nn as nn\n",
    "\n",
    "pd.options.mode.chained_assignment = None\n",
    "pp = PrettyPrinter(width=41, compact=True)\n",
    "root = './_pkls/'"
   ]
  },
  {
   "cell_type": "markdown",
   "metadata": {},
   "source": [
    "### Set some options"
   ]
  },
  {
   "cell_type": "code",
   "execution_count": 3,
   "metadata": {},
   "outputs": [
    {
     "name": "stdout",
     "output_type": "stream",
     "text": [
      "True ,  True\n"
     ]
    }
   ],
   "source": [
    "warnings.simplefilter(action='ignore', category=NumbaDeprecationWarning)\n",
    "warnings.simplefilter(action='ignore', category=FutureWarning)\n",
    "np.seterr(divide = 'ignore') \n",
    "\n",
    "# Ensure that the current MacOS version is at least 12.3+, and \n",
    "# the current current PyTorch installation was built with MPS activated.\n",
    "print(torch.backends.mps.is_available(), \", \", torch.backends.mps.is_built())\n",
    "\n",
    "pd.options.mode.chained_assignment = None  # default='warn'\n",
    "%matplotlib inline\n",
    "\n",
    "pp = PrettyPrinter(width=100)"
   ]
  },
  {
   "cell_type": "code",
   "execution_count": 71,
   "metadata": {},
   "outputs": [
    {
     "data": {
      "text/html": [
       "<div>\n",
       "<style scoped>\n",
       "    .dataframe tbody tr th:only-of-type {\n",
       "        vertical-align: middle;\n",
       "    }\n",
       "\n",
       "    .dataframe tbody tr th {\n",
       "        vertical-align: top;\n",
       "    }\n",
       "\n",
       "    .dataframe thead th {\n",
       "        text-align: right;\n",
       "    }\n",
       "</style>\n",
       "<table border=\"1\" class=\"dataframe\">\n",
       "  <thead>\n",
       "    <tr style=\"text-align: right;\">\n",
       "      <th></th>\n",
       "      <th>user_id</th>\n",
       "      <th>product_id</th>\n",
       "      <th>total_product_orders_by_user</th>\n",
       "      <th>total_product_reorders_by_user</th>\n",
       "      <th>user_product_reorder_percentage</th>\n",
       "      <th>avg_add_to_cart_by_user</th>\n",
       "      <th>avg_days_since_last_bought</th>\n",
       "      <th>last_ordered_in</th>\n",
       "      <th>is_reorder_3</th>\n",
       "      <th>is_reorder_2</th>\n",
       "      <th>...</th>\n",
       "      <th>total_reorders_by_user</th>\n",
       "      <th>reorder_propotion_by_user</th>\n",
       "      <th>average_order_size</th>\n",
       "      <th>reorder_in_order</th>\n",
       "      <th>orders_3</th>\n",
       "      <th>orders_2</th>\n",
       "      <th>orders_1</th>\n",
       "      <th>reorder_3</th>\n",
       "      <th>reorder_2</th>\n",
       "      <th>reorder_1</th>\n",
       "    </tr>\n",
       "  </thead>\n",
       "  <tbody>\n",
       "    <tr>\n",
       "      <th>0</th>\n",
       "      <td>1</td>\n",
       "      <td>196</td>\n",
       "      <td>10.0</td>\n",
       "      <td>9.0</td>\n",
       "      <td>0.900000</td>\n",
       "      <td>1.400000</td>\n",
       "      <td>17.600000</td>\n",
       "      <td>10.0</td>\n",
       "      <td>1.0</td>\n",
       "      <td>1.0</td>\n",
       "      <td>...</td>\n",
       "      <td>41</td>\n",
       "      <td>0.694915</td>\n",
       "      <td>5.9</td>\n",
       "      <td>0.705833</td>\n",
       "      <td>6.0</td>\n",
       "      <td>6.0</td>\n",
       "      <td>9.0</td>\n",
       "      <td>0.666667</td>\n",
       "      <td>1.0</td>\n",
       "      <td>0.666667</td>\n",
       "    </tr>\n",
       "    <tr>\n",
       "      <th>1</th>\n",
       "      <td>1</td>\n",
       "      <td>10258</td>\n",
       "      <td>9.0</td>\n",
       "      <td>8.0</td>\n",
       "      <td>0.888889</td>\n",
       "      <td>3.333333</td>\n",
       "      <td>19.555555</td>\n",
       "      <td>10.0</td>\n",
       "      <td>1.0</td>\n",
       "      <td>1.0</td>\n",
       "      <td>...</td>\n",
       "      <td>41</td>\n",
       "      <td>0.694915</td>\n",
       "      <td>5.9</td>\n",
       "      <td>0.705833</td>\n",
       "      <td>6.0</td>\n",
       "      <td>6.0</td>\n",
       "      <td>9.0</td>\n",
       "      <td>0.666667</td>\n",
       "      <td>1.0</td>\n",
       "      <td>0.666667</td>\n",
       "    </tr>\n",
       "    <tr>\n",
       "      <th>2</th>\n",
       "      <td>1</td>\n",
       "      <td>10326</td>\n",
       "      <td>1.0</td>\n",
       "      <td>0.0</td>\n",
       "      <td>0.000000</td>\n",
       "      <td>5.000000</td>\n",
       "      <td>28.000000</td>\n",
       "      <td>5.0</td>\n",
       "      <td>0.0</td>\n",
       "      <td>0.0</td>\n",
       "      <td>...</td>\n",
       "      <td>41</td>\n",
       "      <td>0.694915</td>\n",
       "      <td>5.9</td>\n",
       "      <td>0.705833</td>\n",
       "      <td>6.0</td>\n",
       "      <td>6.0</td>\n",
       "      <td>9.0</td>\n",
       "      <td>0.666667</td>\n",
       "      <td>1.0</td>\n",
       "      <td>0.666667</td>\n",
       "    </tr>\n",
       "    <tr>\n",
       "      <th>3</th>\n",
       "      <td>1</td>\n",
       "      <td>12427</td>\n",
       "      <td>10.0</td>\n",
       "      <td>9.0</td>\n",
       "      <td>0.900000</td>\n",
       "      <td>3.300000</td>\n",
       "      <td>17.600000</td>\n",
       "      <td>10.0</td>\n",
       "      <td>1.0</td>\n",
       "      <td>1.0</td>\n",
       "      <td>...</td>\n",
       "      <td>41</td>\n",
       "      <td>0.694915</td>\n",
       "      <td>5.9</td>\n",
       "      <td>0.705833</td>\n",
       "      <td>6.0</td>\n",
       "      <td>6.0</td>\n",
       "      <td>9.0</td>\n",
       "      <td>0.666667</td>\n",
       "      <td>1.0</td>\n",
       "      <td>0.666667</td>\n",
       "    </tr>\n",
       "    <tr>\n",
       "      <th>4</th>\n",
       "      <td>1</td>\n",
       "      <td>13032</td>\n",
       "      <td>3.0</td>\n",
       "      <td>2.0</td>\n",
       "      <td>0.666667</td>\n",
       "      <td>6.333333</td>\n",
       "      <td>21.666666</td>\n",
       "      <td>10.0</td>\n",
       "      <td>1.0</td>\n",
       "      <td>0.0</td>\n",
       "      <td>...</td>\n",
       "      <td>41</td>\n",
       "      <td>0.694915</td>\n",
       "      <td>5.9</td>\n",
       "      <td>0.705833</td>\n",
       "      <td>6.0</td>\n",
       "      <td>6.0</td>\n",
       "      <td>9.0</td>\n",
       "      <td>0.666667</td>\n",
       "      <td>1.0</td>\n",
       "      <td>0.666667</td>\n",
       "    </tr>\n",
       "  </tbody>\n",
       "</table>\n",
       "<p>5 rows × 69 columns</p>\n",
       "</div>"
      ],
      "text/plain": [
       "   user_id  product_id  total_product_orders_by_user  \\\n",
       "0        1         196                          10.0   \n",
       "1        1       10258                           9.0   \n",
       "2        1       10326                           1.0   \n",
       "3        1       12427                          10.0   \n",
       "4        1       13032                           3.0   \n",
       "\n",
       "   total_product_reorders_by_user  user_product_reorder_percentage  \\\n",
       "0                             9.0                         0.900000   \n",
       "1                             8.0                         0.888889   \n",
       "2                             0.0                         0.000000   \n",
       "3                             9.0                         0.900000   \n",
       "4                             2.0                         0.666667   \n",
       "\n",
       "   avg_add_to_cart_by_user  avg_days_since_last_bought  last_ordered_in  \\\n",
       "0                 1.400000                   17.600000             10.0   \n",
       "1                 3.333333                   19.555555             10.0   \n",
       "2                 5.000000                   28.000000              5.0   \n",
       "3                 3.300000                   17.600000             10.0   \n",
       "4                 6.333333                   21.666666             10.0   \n",
       "\n",
       "   is_reorder_3  is_reorder_2  ...  total_reorders_by_user  \\\n",
       "0           1.0           1.0  ...                      41   \n",
       "1           1.0           1.0  ...                      41   \n",
       "2           0.0           0.0  ...                      41   \n",
       "3           1.0           1.0  ...                      41   \n",
       "4           1.0           0.0  ...                      41   \n",
       "\n",
       "   reorder_propotion_by_user  average_order_size  reorder_in_order  orders_3  \\\n",
       "0                   0.694915                 5.9          0.705833       6.0   \n",
       "1                   0.694915                 5.9          0.705833       6.0   \n",
       "2                   0.694915                 5.9          0.705833       6.0   \n",
       "3                   0.694915                 5.9          0.705833       6.0   \n",
       "4                   0.694915                 5.9          0.705833       6.0   \n",
       "\n",
       "   orders_2  orders_1  reorder_3  reorder_2  reorder_1  \n",
       "0       6.0       9.0   0.666667        1.0   0.666667  \n",
       "1       6.0       9.0   0.666667        1.0   0.666667  \n",
       "2       6.0       9.0   0.666667        1.0   0.666667  \n",
       "3       6.0       9.0   0.666667        1.0   0.666667  \n",
       "4       6.0       9.0   0.666667        1.0   0.666667  \n",
       "\n",
       "[5 rows x 69 columns]"
      ]
     },
     "execution_count": 71,
     "metadata": {},
     "output_type": "execute_result"
    }
   ],
   "source": [
    "df = pd.read_pickle(root + 'final_data.pkl')\n",
    "df.head()"
   ]
  },
  {
   "cell_type": "code",
   "execution_count": 72,
   "metadata": {},
   "outputs": [
    {
     "name": "stdout",
     "output_type": "stream",
     "text": [
      "Memory usage of properties dataframe is : 4283.495386123657  MB\n",
      "\n",
      "___MEMORY USAGE AFTER COMPLETION:___\n",
      "Memory usage is:  1204.2280359268188  MB\n",
      "This is  28.11320959578722 % of the initial size\n"
     ]
    }
   ],
   "source": [
    "df = custom_mem_opt(df)"
   ]
  },
  {
   "cell_type": "code",
   "execution_count": 73,
   "metadata": {},
   "outputs": [],
   "source": [
    "df['order_diff'] = df.order_number - df.last_ordered_in\n",
    "df.drop(['user_id', 'product_id'], axis = 1, inplace = True)"
   ]
  },
  {
   "cell_type": "code",
   "execution_count": 74,
   "metadata": {},
   "outputs": [
    {
     "data": {
      "text/html": [
       "<div>\n",
       "<style scoped>\n",
       "    .dataframe tbody tr th:only-of-type {\n",
       "        vertical-align: middle;\n",
       "    }\n",
       "\n",
       "    .dataframe tbody tr th {\n",
       "        vertical-align: top;\n",
       "    }\n",
       "\n",
       "    .dataframe thead th {\n",
       "        text-align: right;\n",
       "    }\n",
       "</style>\n",
       "<table border=\"1\" class=\"dataframe\">\n",
       "  <thead>\n",
       "    <tr style=\"text-align: right;\">\n",
       "      <th></th>\n",
       "      <th>total_product_orders_by_user</th>\n",
       "      <th>total_product_reorders_by_user</th>\n",
       "      <th>user_product_reorder_percentage</th>\n",
       "      <th>avg_add_to_cart_by_user</th>\n",
       "      <th>avg_days_since_last_bought</th>\n",
       "      <th>last_ordered_in</th>\n",
       "      <th>is_reorder_3</th>\n",
       "      <th>is_reorder_2</th>\n",
       "      <th>is_reorder_1</th>\n",
       "      <th>order_number</th>\n",
       "      <th>...</th>\n",
       "      <th>reorder_propotion_by_user</th>\n",
       "      <th>average_order_size</th>\n",
       "      <th>reorder_in_order</th>\n",
       "      <th>orders_3</th>\n",
       "      <th>orders_2</th>\n",
       "      <th>orders_1</th>\n",
       "      <th>reorder_3</th>\n",
       "      <th>reorder_2</th>\n",
       "      <th>reorder_1</th>\n",
       "      <th>order_diff</th>\n",
       "    </tr>\n",
       "  </thead>\n",
       "  <tbody>\n",
       "    <tr>\n",
       "      <th>0</th>\n",
       "      <td>10.0</td>\n",
       "      <td>9.0</td>\n",
       "      <td>0.899902</td>\n",
       "      <td>1.400391</td>\n",
       "      <td>17.593750</td>\n",
       "      <td>10.0</td>\n",
       "      <td>1.0</td>\n",
       "      <td>1.0</td>\n",
       "      <td>1.0</td>\n",
       "      <td>11.0</td>\n",
       "      <td>...</td>\n",
       "      <td>0.694824</td>\n",
       "      <td>5.898438</td>\n",
       "      <td>0.706055</td>\n",
       "      <td>6.0</td>\n",
       "      <td>6.0</td>\n",
       "      <td>9.0</td>\n",
       "      <td>0.666504</td>\n",
       "      <td>1.0</td>\n",
       "      <td>0.666504</td>\n",
       "      <td>1.0</td>\n",
       "    </tr>\n",
       "    <tr>\n",
       "      <th>1</th>\n",
       "      <td>9.0</td>\n",
       "      <td>8.0</td>\n",
       "      <td>0.888672</td>\n",
       "      <td>3.333984</td>\n",
       "      <td>19.562500</td>\n",
       "      <td>10.0</td>\n",
       "      <td>1.0</td>\n",
       "      <td>1.0</td>\n",
       "      <td>1.0</td>\n",
       "      <td>11.0</td>\n",
       "      <td>...</td>\n",
       "      <td>0.694824</td>\n",
       "      <td>5.898438</td>\n",
       "      <td>0.706055</td>\n",
       "      <td>6.0</td>\n",
       "      <td>6.0</td>\n",
       "      <td>9.0</td>\n",
       "      <td>0.666504</td>\n",
       "      <td>1.0</td>\n",
       "      <td>0.666504</td>\n",
       "      <td>1.0</td>\n",
       "    </tr>\n",
       "    <tr>\n",
       "      <th>2</th>\n",
       "      <td>1.0</td>\n",
       "      <td>0.0</td>\n",
       "      <td>0.000000</td>\n",
       "      <td>5.000000</td>\n",
       "      <td>28.000000</td>\n",
       "      <td>5.0</td>\n",
       "      <td>0.0</td>\n",
       "      <td>0.0</td>\n",
       "      <td>0.0</td>\n",
       "      <td>11.0</td>\n",
       "      <td>...</td>\n",
       "      <td>0.694824</td>\n",
       "      <td>5.898438</td>\n",
       "      <td>0.706055</td>\n",
       "      <td>6.0</td>\n",
       "      <td>6.0</td>\n",
       "      <td>9.0</td>\n",
       "      <td>0.666504</td>\n",
       "      <td>1.0</td>\n",
       "      <td>0.666504</td>\n",
       "      <td>6.0</td>\n",
       "    </tr>\n",
       "    <tr>\n",
       "      <th>3</th>\n",
       "      <td>10.0</td>\n",
       "      <td>9.0</td>\n",
       "      <td>0.899902</td>\n",
       "      <td>3.300781</td>\n",
       "      <td>17.593750</td>\n",
       "      <td>10.0</td>\n",
       "      <td>1.0</td>\n",
       "      <td>1.0</td>\n",
       "      <td>1.0</td>\n",
       "      <td>11.0</td>\n",
       "      <td>...</td>\n",
       "      <td>0.694824</td>\n",
       "      <td>5.898438</td>\n",
       "      <td>0.706055</td>\n",
       "      <td>6.0</td>\n",
       "      <td>6.0</td>\n",
       "      <td>9.0</td>\n",
       "      <td>0.666504</td>\n",
       "      <td>1.0</td>\n",
       "      <td>0.666504</td>\n",
       "      <td>1.0</td>\n",
       "    </tr>\n",
       "    <tr>\n",
       "      <th>4</th>\n",
       "      <td>3.0</td>\n",
       "      <td>2.0</td>\n",
       "      <td>0.666504</td>\n",
       "      <td>6.332031</td>\n",
       "      <td>21.671875</td>\n",
       "      <td>10.0</td>\n",
       "      <td>1.0</td>\n",
       "      <td>0.0</td>\n",
       "      <td>0.0</td>\n",
       "      <td>11.0</td>\n",
       "      <td>...</td>\n",
       "      <td>0.694824</td>\n",
       "      <td>5.898438</td>\n",
       "      <td>0.706055</td>\n",
       "      <td>6.0</td>\n",
       "      <td>6.0</td>\n",
       "      <td>9.0</td>\n",
       "      <td>0.666504</td>\n",
       "      <td>1.0</td>\n",
       "      <td>0.666504</td>\n",
       "      <td>1.0</td>\n",
       "    </tr>\n",
       "  </tbody>\n",
       "</table>\n",
       "<p>5 rows × 68 columns</p>\n",
       "</div>"
      ],
      "text/plain": [
       "   total_product_orders_by_user  total_product_reorders_by_user  \\\n",
       "0                          10.0                             9.0   \n",
       "1                           9.0                             8.0   \n",
       "2                           1.0                             0.0   \n",
       "3                          10.0                             9.0   \n",
       "4                           3.0                             2.0   \n",
       "\n",
       "   user_product_reorder_percentage  avg_add_to_cart_by_user  \\\n",
       "0                         0.899902                 1.400391   \n",
       "1                         0.888672                 3.333984   \n",
       "2                         0.000000                 5.000000   \n",
       "3                         0.899902                 3.300781   \n",
       "4                         0.666504                 6.332031   \n",
       "\n",
       "   avg_days_since_last_bought  last_ordered_in  is_reorder_3  is_reorder_2  \\\n",
       "0                   17.593750             10.0           1.0           1.0   \n",
       "1                   19.562500             10.0           1.0           1.0   \n",
       "2                   28.000000              5.0           0.0           0.0   \n",
       "3                   17.593750             10.0           1.0           1.0   \n",
       "4                   21.671875             10.0           1.0           0.0   \n",
       "\n",
       "   is_reorder_1  order_number  ...  reorder_propotion_by_user  \\\n",
       "0           1.0          11.0  ...                   0.694824   \n",
       "1           1.0          11.0  ...                   0.694824   \n",
       "2           0.0          11.0  ...                   0.694824   \n",
       "3           1.0          11.0  ...                   0.694824   \n",
       "4           0.0          11.0  ...                   0.694824   \n",
       "\n",
       "   average_order_size  reorder_in_order  orders_3  orders_2  orders_1  \\\n",
       "0            5.898438          0.706055       6.0       6.0       9.0   \n",
       "1            5.898438          0.706055       6.0       6.0       9.0   \n",
       "2            5.898438          0.706055       6.0       6.0       9.0   \n",
       "3            5.898438          0.706055       6.0       6.0       9.0   \n",
       "4            5.898438          0.706055       6.0       6.0       9.0   \n",
       "\n",
       "   reorder_3  reorder_2  reorder_1  order_diff  \n",
       "0   0.666504        1.0   0.666504         1.0  \n",
       "1   0.666504        1.0   0.666504         1.0  \n",
       "2   0.666504        1.0   0.666504         6.0  \n",
       "3   0.666504        1.0   0.666504         1.0  \n",
       "4   0.666504        1.0   0.666504         1.0  \n",
       "\n",
       "[5 rows x 68 columns]"
      ]
     },
     "execution_count": 74,
     "metadata": {},
     "output_type": "execute_result"
    }
   ],
   "source": [
    "df.head()"
   ]
  },
  {
   "cell_type": "code",
   "execution_count": 75,
   "metadata": {},
   "outputs": [
    {
     "name": "stdout",
     "output_type": "stream",
     "text": [
      "(8474661, 68)\n"
     ]
    }
   ],
   "source": [
    "print(df.shape)"
   ]
  },
  {
   "cell_type": "code",
   "execution_count": 76,
   "metadata": {},
   "outputs": [],
   "source": [
    "df.reordered = df.reordered.astype(int)\n",
    "#df.groupby('reordered', group_keys=False).apply(lambda x: x.sample(frac=0.30))"
   ]
  },
  {
   "cell_type": "code",
   "execution_count": 77,
   "metadata": {},
   "outputs": [
    {
     "name": "stdout",
     "output_type": "stream",
     "text": [
      "(8474661, 68)\n"
     ]
    }
   ],
   "source": [
    "print(df.shape)"
   ]
  },
  {
   "cell_type": "code",
   "execution_count": 81,
   "metadata": {},
   "outputs": [],
   "source": [
    "df_red, df_val = train_test_split(df, test_size=0.3, stratify=df['reordered'])\n",
    "#df_red = df.groupby('reordered', group_keys=False).apply(lambda x: x.sample(frac=0.3))"
   ]
  },
  {
   "cell_type": "code",
   "execution_count": 82,
   "metadata": {},
   "outputs": [
    {
     "name": "stdout",
     "output_type": "stream",
     "text": [
      "(2542399, 64)\n"
     ]
    }
   ],
   "source": [
    "y_val = df_val.reordered\n",
    "X_val = df_val.drop([\"reordered\", 'order_dow', 'order_hour_of_day', 'days_since_prior_order'], axis = 1)\n",
    "print(X_val.shape)"
   ]
  },
  {
   "cell_type": "code",
   "execution_count": 83,
   "metadata": {},
   "outputs": [
    {
     "name": "stdout",
     "output_type": "stream",
     "text": [
      "(5932262, 64)\n"
     ]
    }
   ],
   "source": [
    "y = df_red.reordered\n",
    "X = df_red.drop([\"reordered\", 'order_dow', 'order_hour_of_day', 'days_since_prior_order'], axis = 1)\n",
    "print(X.shape)"
   ]
  },
  {
   "cell_type": "code",
   "execution_count": 84,
   "metadata": {},
   "outputs": [
    {
     "name": "stdout",
     "output_type": "stream",
     "text": [
      "Original dataset shape Counter({1: 5339035, 0: 593227})\n"
     ]
    }
   ],
   "source": [
    "X, y = make_classification(n_classes=2\n",
    "                           , class_sep=2\n",
    "                           , weights=[0.1, 0.9]\n",
    "                           , n_informative=3\n",
    "                           , n_redundant=1\n",
    "                           , flip_y=0\n",
    "                           , n_features=X.shape[1]\n",
    "                           , n_clusters_per_class=1\n",
    "                           , n_samples=len(X)\n",
    "                           , random_state=10)\n",
    "print('Original dataset shape %s' % Counter(y))"
   ]
  },
  {
   "cell_type": "code",
   "execution_count": 85,
   "metadata": {},
   "outputs": [
    {
     "name": "stdout",
     "output_type": "stream",
     "text": [
      "Resampled dataset shape Counter({1: 5339035, 0: 5339035})\n"
     ]
    }
   ],
   "source": [
    "sm = SMOTE(random_state=42)\n",
    "X_res, y_res = sm.fit_resample(X, y)\n",
    "print('Resampled dataset shape %s' % Counter(y_res))"
   ]
  },
  {
   "cell_type": "markdown",
   "metadata": {},
   "source": [
    "## Train-Test Split"
   ]
  },
  {
   "cell_type": "code",
   "execution_count": 86,
   "metadata": {},
   "outputs": [
    {
     "name": "stdout",
     "output_type": "stream",
     "text": [
      "Shape of X_train:  (7474649, 64)\n",
      "Shape of y_train:  (7474649,)\n",
      "Shape of X_test:  (3203421, 64)\n",
      "Shape of y_test:  (3203421,)\n"
     ]
    }
   ],
   "source": [
    "X_train, X_test, y_train, y_test = train_test_split(X_res, y_res, test_size = 0.3)\n",
    "#X_train, X_test, y_train, y_test = train_test_split(X, y, test_size = 0.3)\n",
    "\n",
    "print(\"Shape of X_train: \", X_train.shape)\n",
    "print(\"Shape of y_train: \", y_train.shape)\n",
    "print(\"Shape of X_test: \", X_test.shape)\n",
    "print(\"Shape of y_test: \", y_test.shape)"
   ]
  },
  {
   "cell_type": "code",
   "execution_count": 87,
   "metadata": {},
   "outputs": [],
   "source": [
    "samples_dict = {'X_train': X_train, 'X_test': X_test, 'y_train': y_train, 'y_test': y_test, 'y_val': y_val, 'X_val': X_val}\n",
    "models_dict = {}"
   ]
  },
  {
   "cell_type": "markdown",
   "metadata": {},
   "source": [
    "# Logistic Regression - pytorch NN"
   ]
  },
  {
   "cell_type": "code",
   "execution_count": 88,
   "metadata": {},
   "outputs": [
    {
     "name": "stdout",
     "output_type": "stream",
     "text": [
      "tensor([1.], device='mps:0')\n"
     ]
    }
   ],
   "source": [
    "if torch.backends.mps.is_available():\n",
    "    device = \"mps\"\n",
    "    processor = torch.device(\"mps\")\n",
    "    x = torch.ones(1, device=processor)\n",
    "    print (x)\n",
    "else:\n",
    "    print (\"GPU device not found.\")"
   ]
  },
  {
   "cell_type": "code",
   "execution_count": 65,
   "metadata": {},
   "outputs": [],
   "source": [
    "sc = MinMaxScaler()\n",
    "X_train_sc = sc.fit_transform(X_train)\n",
    "X_test_sc = sc.transform(X_test)"
   ]
  },
  {
   "cell_type": "code",
   "execution_count": 89,
   "metadata": {},
   "outputs": [],
   "source": [
    "X_train_t = torch.tensor(X_train, dtype=torch.float, device=processor)\n",
    "X_test_t = torch.tensor(X_test, dtype=torch.float, device=processor)\n",
    "y_train_t = torch.tensor(y_train, dtype=torch.float, device=processor).view(-1, 1)\n",
    "y_test_t = torch.tensor(y_test, dtype=torch.float, device=processor).view(-1, 1)"
   ]
  },
  {
   "cell_type": "code",
   "execution_count": 90,
   "metadata": {},
   "outputs": [],
   "source": [
    "class LogReg(nn.Module):\n",
    "    def __init__(self, num_features):\n",
    "        super().__init__()\n",
    "        self.layer0 = nn.Linear(in_features=num_features, out_features=round(num_features/2))\n",
    "        self.relu = nn.ReLU()\n",
    "        self.layer1 = nn.Linear(round(num_features/2), 1)\n",
    "        self.sigmoid = nn.Sigmoid()\n",
    "\n",
    "    def forward(self, x):\n",
    "        x = self.layer0(x)\n",
    "        x = self.relu(x)\n",
    "        x = self.layer1(x)\n",
    "        x = self.sigmoid(x)\n",
    "        return x\n",
    "    \n",
    "def calculate_accuracy(preds, actuals):\n",
    "    \n",
    "    with torch.no_grad():\n",
    "        rounded_preds = torch.round(preds)\n",
    "        num_correct = torch.sum(rounded_preds == actuals)\n",
    "        accuracy = num_correct/len(preds)\n",
    "        \n",
    "    return accuracy"
   ]
  },
  {
   "cell_type": "code",
   "execution_count": 91,
   "metadata": {},
   "outputs": [
    {
     "name": "stderr",
     "output_type": "stream",
     "text": [
      "Training Epochs:   0%|          | 0/1200 [00:00<?, ?it/s]"
     ]
    },
    {
     "name": "stderr",
     "output_type": "stream",
     "text": [
      "Training Epochs:   0%|          | 1/1200 [00:04<1:20:07,  4.01s/it]"
     ]
    },
    {
     "name": "stdout",
     "output_type": "stream",
     "text": [
      "Epoch: 0 \t| Train loss: 0.2654 \t| Test loss: 0.2628 \t| Train acc: 0.4387 \t| Test acc: 0.447\n"
     ]
    },
    {
     "name": "stderr",
     "output_type": "stream",
     "text": [
      "Training Epochs:  10%|█         | 121/1200 [00:29<03:46,  4.76it/s]"
     ]
    },
    {
     "name": "stdout",
     "output_type": "stream",
     "text": [
      "Epoch: 120 \t| Train loss: 0.0572 \t| Test loss: 0.0566 \t| Train acc: 0.9627 \t| Test acc: 0.9628\n"
     ]
    },
    {
     "name": "stderr",
     "output_type": "stream",
     "text": [
      "Training Epochs:  20%|██        | 241/1200 [00:54<03:19,  4.82it/s]"
     ]
    },
    {
     "name": "stdout",
     "output_type": "stream",
     "text": [
      "Epoch: 240 \t| Train loss: 0.0321 \t| Test loss: 0.032 \t| Train acc: 0.9688 \t| Test acc: 0.9688\n"
     ]
    },
    {
     "name": "stderr",
     "output_type": "stream",
     "text": [
      "Training Epochs:  30%|███       | 361/1200 [01:19<02:55,  4.77it/s]"
     ]
    },
    {
     "name": "stdout",
     "output_type": "stream",
     "text": [
      "Epoch: 360 \t| Train loss: 0.0265 \t| Test loss: 0.0265 \t| Train acc: 0.9709 \t| Test acc: 0.9708\n"
     ]
    },
    {
     "name": "stderr",
     "output_type": "stream",
     "text": [
      "Training Epochs:  40%|████      | 481/1200 [01:45<02:33,  4.68it/s]"
     ]
    },
    {
     "name": "stdout",
     "output_type": "stream",
     "text": [
      "Epoch: 480 \t| Train loss: 0.0243 \t| Test loss: 0.0243 \t| Train acc: 0.9723 \t| Test acc: 0.9722\n"
     ]
    },
    {
     "name": "stderr",
     "output_type": "stream",
     "text": [
      "Training Epochs:  50%|█████     | 601/1200 [02:10<02:06,  4.75it/s]"
     ]
    },
    {
     "name": "stdout",
     "output_type": "stream",
     "text": [
      "Epoch: 600 \t| Train loss: 0.023 \t| Test loss: 0.023 \t| Train acc: 0.9731 \t| Test acc: 0.973\n"
     ]
    },
    {
     "name": "stderr",
     "output_type": "stream",
     "text": [
      "Training Epochs:  60%|██████    | 721/1200 [02:36<01:40,  4.76it/s]"
     ]
    },
    {
     "name": "stdout",
     "output_type": "stream",
     "text": [
      "Epoch: 720 \t| Train loss: 0.0222 \t| Test loss: 0.0222 \t| Train acc: 0.9738 \t| Test acc: 0.9736\n"
     ]
    },
    {
     "name": "stderr",
     "output_type": "stream",
     "text": [
      "Training Epochs:  70%|███████   | 841/1200 [03:01<01:15,  4.74it/s]"
     ]
    },
    {
     "name": "stdout",
     "output_type": "stream",
     "text": [
      "Epoch: 840 \t| Train loss: 0.0215 \t| Test loss: 0.0216 \t| Train acc: 0.9744 \t| Test acc: 0.9742\n"
     ]
    },
    {
     "name": "stderr",
     "output_type": "stream",
     "text": [
      "Training Epochs:  80%|████████  | 961/1200 [03:26<00:50,  4.74it/s]"
     ]
    },
    {
     "name": "stdout",
     "output_type": "stream",
     "text": [
      "Epoch: 960 \t| Train loss: 0.0209 \t| Test loss: 0.021 \t| Train acc: 0.975 \t| Test acc: 0.9747\n"
     ]
    },
    {
     "name": "stderr",
     "output_type": "stream",
     "text": [
      "Training Epochs:  90%|█████████ | 1081/1200 [03:51<00:25,  4.75it/s]"
     ]
    },
    {
     "name": "stdout",
     "output_type": "stream",
     "text": [
      "Epoch: 1080 \t| Train loss: 0.0203 \t| Test loss: 0.0204 \t| Train acc: 0.9755 \t| Test acc: 0.9753\n"
     ]
    },
    {
     "name": "stderr",
     "output_type": "stream",
     "text": [
      "Training Epochs: 100%|██████████| 1200/1200 [04:17<00:00,  4.67it/s]\n"
     ]
    }
   ],
   "source": [
    "train_losses = []\n",
    "test_losses  = []\n",
    "train_accs = []\n",
    "test_accs  = []\n",
    "iter = 0\n",
    "\n",
    "n_features = X_train_t.shape[1]\n",
    "\n",
    "model=LogReg(n_features).to(device)\n",
    "\n",
    "criterion=torch.nn.MSELoss().to(device)\n",
    "\n",
    "optimizer=torch.optim.Adam(model.parameters(),lr=0.001)\n",
    "\n",
    "start = time.perf_counter()\n",
    "epochs=1200\n",
    "for epoch in tqdm(range(int(epochs)),desc='Training Epochs'):\n",
    "    # Forward propagation\n",
    "    train_preds_t=model(X_train_t)\n",
    "    train_loss_t=criterion(train_preds_t,y_train_t).to(device)\n",
    "\n",
    "    # Backward propagation\n",
    "    train_loss_t.backward()\n",
    "\n",
    "    # Gradient descent step\n",
    "    optimizer.step()\n",
    "    \n",
    "    # Reset gradient\n",
    "    optimizer.zero_grad()\n",
    "    \n",
    "    # Calculating the loss and accuracy for the test dataset\n",
    "    # Predicting test data #b\n",
    "    with torch.no_grad():\n",
    "        test_preds_t = model(X_test_t)\n",
    "        test_loss_t  = criterion(test_preds_t, y_test_t).to(device)\n",
    "\n",
    "    # Calculate accuracy #c\n",
    "    train_acc_t = calculate_accuracy(train_preds_t, y_train_t)\n",
    "    test_acc_t  = calculate_accuracy(test_preds_t, y_test_t)\n",
    "\n",
    "    # Store training history #f\n",
    "    train_losses.append(train_loss_t.item())\n",
    "    test_losses.append(test_loss_t.item())\n",
    "    train_accs.append(train_acc_t.item())\n",
    "    test_accs.append(test_acc_t.item())\n",
    "    \n",
    "    # Print training data #g\n",
    "    if epoch%int(epochs/10)==0:\n",
    "        print(f'Epoch: {epoch} \\t|' \\\n",
    "            f' Train loss: {np.round(train_loss_t.item(),4)} \\t|' \\\n",
    "            f' Test loss: {np.round(test_loss_t.item(),4)} \\t|' \\\n",
    "            f' Train acc: {np.round(train_acc_t.item(),4)} \\t|' \\\n",
    "            f' Test acc: {np.round(test_acc_t.item(),4)}')\n",
    "        \n",
    "end = time.perf_counter()"
   ]
  },
  {
   "cell_type": "code",
   "execution_count": 92,
   "metadata": {},
   "outputs": [
    {
     "data": {
      "image/png": "[encoded data removed]",
      "text/plain": [
       "<Figure size 640x480 with 2 Axes>"
      ]
     },
     "metadata": {},
     "output_type": "display_data"
    },
    {
     "data": {
      "text/html": [
       "<div>\n",
       "<style scoped>\n",
       "    .dataframe tbody tr th:only-of-type {\n",
       "        vertical-align: middle;\n",
       "    }\n",
       "\n",
       "    .dataframe tbody tr th {\n",
       "        vertical-align: top;\n",
       "    }\n",
       "\n",
       "    .dataframe thead th {\n",
       "        text-align: right;\n",
       "    }\n",
       "</style>\n",
       "<table border=\"1\" class=\"dataframe\">\n",
       "  <thead>\n",
       "    <tr style=\"text-align: right;\">\n",
       "      <th></th>\n",
       "      <th>Model</th>\n",
       "      <th>Conv. Time (sec.)</th>\n",
       "      <th>Train_Accuracy</th>\n",
       "      <th>Test_Accuracy</th>\n",
       "      <th>Train_Recall</th>\n",
       "      <th>Test_Recall</th>\n",
       "      <th>Train_Precision</th>\n",
       "      <th>Test_Precision</th>\n",
       "      <th>Train_F1-Score</th>\n",
       "      <th>Test_F1-Score</th>\n",
       "    </tr>\n",
       "  </thead>\n",
       "  <tbody>\n",
       "    <tr>\n",
       "      <th>0</th>\n",
       "      <td>Torch LogReg</td>\n",
       "      <td>257.0198</td>\n",
       "      <td>0.976123</td>\n",
       "      <td>0.975816</td>\n",
       "      <td>0.988965</td>\n",
       "      <td>0.988627</td>\n",
       "      <td>0.964179</td>\n",
       "      <td>0.963977</td>\n",
       "      <td>0.976415</td>\n",
       "      <td>0.976146</td>\n",
       "    </tr>\n",
       "  </tbody>\n",
       "</table>\n",
       "</div>"
      ],
      "text/plain": [
       "          Model  Conv. Time (sec.)  Train_Accuracy  Test_Accuracy  \\\n",
       "0  Torch LogReg           257.0198        0.976123       0.975816   \n",
       "\n",
       "   Train_Recall  Test_Recall  Train_Precision  Test_Precision  Train_F1-Score  \\\n",
       "0      0.988965     0.988627         0.964179        0.963977        0.976415   \n",
       "\n",
       "   Test_F1-Score  \n",
       "0       0.976146  "
      ]
     },
     "execution_count": 92,
     "metadata": {},
     "output_type": "execute_result"
    }
   ],
   "source": [
    "pred_train = prob_to_label(model(X_train_t).cpu().detach().numpy())\n",
    "pred_test = prob_to_label(model(X_test_t).cpu().detach().numpy())\n",
    "samples_dict['pred_train'] = pred_train\n",
    "samples_dict['pred_test'] = pred_test\n",
    "\n",
    "# Compute and print the confusion matrix and classification report\n",
    "#Creating confusion matrix\n",
    "make_cm([y_test,pred_test])\n",
    "\n",
    "#Models and sample dicts\n",
    "models_dict['Torch LogReg'] = {'pred_train':pred_train, 'pred_test':pred_test, 'est_time':end-start}\n",
    "\n",
    "#Print model comparisons\n",
    "model_comparisons(models_dict, samples_dict)"
   ]
  }
 ],
 "metadata": {
  "kernelspec": {
   "display_name": "Python 3",
   "language": "python",
   "name": "python3"
  },
  "language_info": {
   "codemirror_mode": {
    "name": "ipython",
    "version": 3
   },
   "file_extension": ".py",
   "mimetype": "text/x-python",
   "name": "python",
   "nbconvert_exporter": "python",
   "pygments_lexer": "ipython3",
   "version": "3.10.14"
  }
 },
 "nbformat": 4,
 "nbformat_minor": 2
}
