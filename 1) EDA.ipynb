{
 "cells": [
  {
   "cell_type": "markdown",
   "metadata": {},
   "source": [
    "# **Exploratory Data Analysis**:<a class=\"anchor\" id=\"0\"></a>\n",
    "\n",
    "\n",
    "1. [**Data Import**](#1): Reading in the data\n",
    "\n",
    "2. [**Initial Data Prep.**](#2): Run some joins and cleanup\n",
    "\n",
    "3. [**Analysis**](#3): EDA"
   ]
  },
  {
   "cell_type": "code",
   "execution_count": 3,
   "metadata": {},
   "outputs": [],
   "source": [
    "import numpy as np\n",
    "import pandas as pd\n",
    "\n",
    "from _util.custom_plotting import *\n",
    "from _util.make_confusion_matrix import make_cm\n",
    "from _util.model_comparisons import *\n",
    "from _util.custom_mem_opt import custom_mem_opt\n",
    "\n",
    "import matplotlib.pyplot as plt\n",
    "import seaborn as sns\n",
    "sns.set_style('darkgrid')\n",
    "color = sns.color_palette()\n",
    "\n",
    "root = './_data/'"
   ]
  },
  {
   "cell_type": "markdown",
   "metadata": {},
   "source": [
    "## Data Import<a class=anchor id=\"1\"></a>\n",
    "[Back to top](#0)"
   ]
  },
  {
   "cell_type": "code",
   "execution_count": null,
   "metadata": {},
   "outputs": [],
   "source": []
  }
 ],
 "metadata": {
  "kernelspec": {
   "display_name": "Python 3",
   "language": "python",
   "name": "python3"
  },
  "language_info": {
   "codemirror_mode": {
    "name": "ipython",
    "version": 3
   },
   "file_extension": ".py",
   "mimetype": "text/x-python",
   "name": "python",
   "nbconvert_exporter": "python",
   "pygments_lexer": "ipython3",
   "version": "3.10.14"
  }
 },
 "nbformat": 4,
 "nbformat_minor": 2
}
